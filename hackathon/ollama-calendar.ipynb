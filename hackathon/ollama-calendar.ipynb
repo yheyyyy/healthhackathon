{
 "cells": [
  {
   "cell_type": "code",
   "execution_count": null,
   "metadata": {},
   "outputs": [],
   "source": [
    "# pip install load_dotenv\n",
    "# pip install google-api-python-client\n",
    "# pip install google-auth-oauthlib\n",
    "# pip install streamlit"
   ]
  },
  {
   "cell_type": "code",
   "execution_count": null,
   "metadata": {},
   "outputs": [],
   "source": [
    "import json\n",
    "import requests\n",
    "import os\n",
    "import re\n",
    "import json\n",
    "import pickle\n",
    "from dotenv import load_dotenv\n",
    "from google_auth_oauthlib.flow import InstalledAppFlow\n",
    "from googleapiclient.discovery import build\n",
    "from datetime import datetime, timedelta\n",
    "\n",
    "def get_response(prompt):\n",
    "    \"\"\"\n",
    "    To get response from the model via API call from Ollama and generate response from LLM with the given prompt.\n",
    "    \n",
    "    Parameters:\n",
    "    prompt (str): The prompt to generate response.\n",
    "    \n",
    "    Returns:\n",
    "    str: The generated response.\n",
    "    \"\"\"\n",
    "    \n",
    "    url = \"http://127.0.0.1:11434/v1/completions\"\n",
    "    headers = {\n",
    "        \"Content-Type\": \"application/json\"\n",
    "        }\n",
    "    data = {\n",
    "        \"prompt\": prompt,\n",
    "        \"model\": \"iodose/nuextract-v1.5\"\n",
    "    }\n",
    "    response = requests.post(url, headers=headers, data=json.dumps(data))\n",
    "    if response.status_code == 200:\n",
    "        response_data = response.json()\n",
    "        return response_data[\"choices\"][0][\"text\"]\n",
    "    else:\n",
    "        return f\"Error: {response.status_code}, {response.text}\""
   ]
  },
  {
   "cell_type": "code",
   "execution_count": 51,
   "metadata": {},
   "outputs": [],
   "source": [
    "def extract_appointment_details(message):\n",
    "    json_format = \"\"\"\n",
    "    {\n",
    "    \"appointment\":\n",
    "    \"location\": \n",
    "    \"date\": DD MMM YYYY (example: 5 FEB 2024)\n",
    "    \"time\": \n",
    "    \"description\": \n",
    "    }\n",
    "    \"\"\"\n",
    "    prompt = f\"\"\"Extract the following text and return in a JSON format, no need for new line\n",
    "    {message}\n",
    "\n",
    "    Example JSON format:\n",
    "    {json_format}\n",
    "    \"\"\"\n",
    "    while True:\n",
    "        try:\n",
    "            response = get_response(prompt)\n",
    "            appointment_details = json.loads(response)\n",
    "            \n",
    "            # Check if the date is in \"DD MMM YYYY\" format\n",
    "            date_str = appointment_details.get(\"date\", \"\")\n",
    "            if not re.fullmatch(r\"\\d{1,2} [A-Za-z]{3} \\d{4}\", date_str):\n",
    "                print(\"Date format does not match expected 'DD MMM YYYY' format, retrying...\")\n",
    "                continue\n",
    "\n",
    "            # Check for any error in the JSON response\n",
    "            if \"Error\" in appointment_details:\n",
    "                print(\"Error detected, retrying...\")\n",
    "                continue\n",
    "            else:\n",
    "                break\n",
    "        except json.JSONDecodeError:\n",
    "            print(\"JSONDecodeError detected, retrying...\")\n",
    "        except Exception as e:\n",
    "            print(f\"An unexpected error occurred: {e}, retrying...\")\n",
    "    return appointment_details"
   ]
  },
  {
   "cell_type": "code",
   "execution_count": null,
   "metadata": {},
   "outputs": [],
   "source": [
    "def json_checker(json_data):\n",
    "    if json_data.get(\"appointment\") is None:\n",
    "        print(\"Using Default Appointment Name\")\n",
    "        json_data[\"appointment\"] = \"Health Appointment\"\n",
    "    return json_data\n",
    "\n",
    "def get_google_calendar_service():\n",
    "    \"\"\"Authenticate and return a Google Calendar service instance.\"\"\"\n",
    "    load_dotenv()\n",
    "    SCOPES = [\"https://www.googleapis.com/auth/calendar\"]\n",
    "\n",
    "    flow = InstalledAppFlow.from_client_config(\n",
    "        {\n",
    "            \"installed\": {\n",
    "                \"client_id\": os.getenv(\"GOOGLE_CLIENT_ID\"),\n",
    "                \"client_secret\": os.getenv(\"GOOGLE_CLIENT_SECRET\"),\n",
    "                \"auth_uri\": os.getenv(\"GOOGLE_AUTH_URI\"),\n",
    "                \"token_uri\": os.getenv(\"GOOGLE_TOKEN_URI\"),\n",
    "                \"auth_provider_x509_cert_url\": os.getenv(\"GOOGLE_AUTH_PROVIDER_CERT_URL\"),\n",
    "                \"redirect_uris\": [\"http://localhost\"],\n",
    "            }\n",
    "        },\n",
    "        SCOPES,\n",
    "    )\n",
    "\n",
    "    if os.path.exists(\"token.pickle\"):\n",
    "        credentials = pickle.load(open(\"token.pickle\", \"rb\"))\n",
    "    else:\n",
    "        credentials = flow.run_local_server(port=8080)\n",
    "        with open(\"token.pickle\", \"wb\") as token:\n",
    "            pickle.dump(credentials, token)\n",
    "\n",
    "    service = build(\"calendar\", \"v3\", credentials=credentials)\n",
    "    return service\n",
    "\n",
    "def build_event_body(event_details: dict, duration: int) -> dict:\n",
    "    \"\"\"Construct the event body required by the Google Calendar API.\"\"\"\n",
    "    # Use json_checker to set defaults as needed.\n",
    "    event_details = json_checker(event_details)\n",
    "    \n",
    "    # Combine date and time, then convert to datetime objects.\n",
    "    start_time_str = f\"{event_details['date']} {event_details['time']}\"\n",
    "    start_time = datetime.strptime(start_time_str, \"%d %b %Y %I:%M %p\")\n",
    "    end_time = start_time + timedelta(hours=duration)\n",
    "    \n",
    "    event_body = {\n",
    "        \"summary\": event_details.get(\"appointment\"),\n",
    "        \"start\": {\n",
    "            \"dateTime\": start_time.isoformat(),\n",
    "            \"timeZone\": event_details.get(\"timeZone\", \"Asia/Singapore\"),\n",
    "        },\n",
    "        \"end\": {\n",
    "            \"dateTime\": end_time.isoformat(),\n",
    "            \"timeZone\": event_details.get(\"timeZone\", \"Asia/Singapore\"),\n",
    "        },\n",
    "        \"description\": event_details.get(\"description\") or \"\",\n",
    "        \"location\": event_details.get(\"location\") or \"\",\n",
    "        \"reminders\": {\n",
    "            \"useDefault\": False,\n",
    "            \"overrides\": [\n",
    "                {\"method\": \"email\", \"minutes\": 1440},\n",
    "                {\"method\": \"popup\", \"minutes\": 10},\n",
    "            ],\n",
    "        },\n",
    "    }\n",
    "    return event_body\n",
    "\n",
    "def create_calendar_event(event_details: dict, duration: int) -> None:\n",
    "    \"\"\"Creates an event on Google Calendar using provided details.\"\"\"\n",
    "    service = get_google_calendar_service()\n",
    "    event_body = build_event_body(event_details, duration)\n",
    "\n",
    "    try:\n",
    "        created_event = service.events().insert(calendarId=\"primary\", body=event_body).execute()\n",
    "        print(\"\\n\\033[92mEvent successfully created on Google Calendar!\\033[0m\")\n",
    "        print(f\"View event online: {created_event.get('htmlLink')}\\n\")\n",
    "    except Exception as e:\n",
    "        print(f\"Error creating event: {e}\")\n",
    "        \n"
   ]
  },
  {
   "cell_type": "code",
   "execution_count": null,
   "metadata": {},
   "outputs": [
    {
     "name": "stdout",
     "output_type": "stream",
     "text": [
      "\n",
      "\u001b[92mEvent successfully created on Google Calendar!\u001b[0m\n",
      "View event online: https://www.google.com/calendar/event?eid=MzAxYmtqdnAwczA5cGU5ODEyamhuOHZtczQgb25ueXVuaHVpQG0\n",
      "\n"
     ]
    }
   ],
   "source": [
    "appointment_details = extract_appointment_details(message)\n",
    "create_calendar_event(appointment_details, 1)"
   ]
  },
  {
   "cell_type": "code",
   "execution_count": null,
   "metadata": {},
   "outputs": [
    {
     "name": "stdout",
     "output_type": "stream",
     "text": [
      "\n",
      "\u001b[92mEvent successfully created on Google Calendar!\u001b[0m\n",
      "View event online: https://www.google.com/calendar/event?eid=OGY1Zm1nOGRkNGdwN2d1ZGVrb3Mwb3VuczAgb25ueXVuaHVpQG0\n",
      "\n"
     ]
    }
   ],
   "source": [
    "\n",
    "\n",
    "#message = \"Dear ZHENG HAOFENG, you have an appt on WED/19 August 2025, 09:30 AM at Punggol Polyclinic. View/change appts on Health Buddy app at https://for.sg/dl-hb or call 6643 6969\"\n",
    "message = \"Dear Ms. DIANE, You have a First Visit Consultation at ENT-Head & Neck Surg Ctr - 15C, NUH Medical Centre, Zone B, Level 15, 15c, Lift Lobby B2 on 19 Feb 2025 at 3:45 pm.\"\n",
    "\n",
    "def main(message):\n",
    "    appointment_details = extract_appointment_details(message)\n",
    "    duration =1\n",
    "    create_calendar_event(appointment_details, duration)\n",
    "\n",
    "main(message)\n"
   ]
  },
  {
   "cell_type": "code",
   "execution_count": 44,
   "metadata": {},
   "outputs": [],
   "source": [
    "import streamlit as st\n",
    "\n",
    "def chatbot():\n",
    "    st.title(\"Appointment Chatbot\")\n",
    "\n",
    "    # Initialize chat history\n",
    "    if \"messages\" not in st.session_state:\n",
    "        st.session_state.messages = []\n",
    "\n",
    "    # Display chat messages from history on app rerun\n",
    "    for message in st.session_state.messages:\n",
    "        with st.chat_message(message[\"role\"]):\n",
    "            st.markdown(message[\"content\"])\n",
    "\n",
    "    # React to user input\n",
    "    if prompt := st.chat_input(\"What is your appointment?\"):\n",
    "        # Add user message to chat history\n",
    "        st.session_state.messages.append({\"role\": \"user\", \"content\": prompt})\n",
    "        # Display user message in chat message container\n",
    "        with st.chat_message(\"user\"):\n",
    "            st.markdown(prompt)\n",
    "\n",
    "        # Extract appointment details\n",
    "        json_format = \"\"\"\n",
    "            {\n",
    "            \"appointment\":\n",
    "            \"location\": \n",
    "            \"date\": DD MMM YYYY (example: 5 FEB 2024)\n",
    "            \"time\": \n",
    "            \"description\": \n",
    "            }\n",
    "            \"\"\"\n",
    "        appointment_details = main(prompt, json_format)\n",
    "\n",
    "        # Create calendar event\n",
    "        duration = 2  # Example duration in hours\n",
    "        create_calendar_event(appointment_details, duration)\n",
    "\n",
    "        # Add assistant response to chat history\n",
    "        response = f\"Appointment details: {appointment_details}\"\n",
    "        st.session_state.messages.append({\"role\": \"assistant\", \"content\": response})\n",
    "        # Display assistant response in chat message container\n",
    "        with st.chat_message(\"assistant\"):\n",
    "            st.markdown(response)"
   ]
  },
  {
   "cell_type": "code",
   "execution_count": 48,
   "metadata": {},
   "outputs": [
    {
     "name": "stderr",
     "output_type": "stream",
     "text": [
      "2025-02-20 22:30:44.598 Thread 'MainThread': missing ScriptRunContext! This warning can be ignored when running in bare mode.\n",
      "2025-02-20 22:30:44.602 Thread 'MainThread': missing ScriptRunContext! This warning can be ignored when running in bare mode.\n"
     ]
    },
    {
     "data": {
      "text/plain": [
       "DeltaGenerator()"
      ]
     },
     "execution_count": 48,
     "metadata": {},
     "output_type": "execute_result"
    }
   ],
   "source": [
    "from streamlit.components.v1 import html\n",
    "\n",
    "# Embed the Streamlit app in the Jupyter Notebook\n",
    "html(\"\"\"\n",
    "    <iframe src=\"data:text/html;charset=utf-8,%3C!DOCTYPE%20html%3E%3Chtml%3E%3Chead%3E%3Ctitle%3EStreamlit%20App%3C/title%3E%3C/head%3E%3Cbody%3E%3Cscript%20src%3D%22https%3A//cdn.jsdelivr.net/npm/streamlit@latest%22%3E%3C/script%3E%3C/body%3E%3C/html%3E\" width=\"100%\" height=\"600px\"></iframe>\n",
    "\"\"\")"
   ]
  },
  {
   "cell_type": "code",
   "execution_count": 50,
   "metadata": {},
   "outputs": [
    {
     "name": "stderr",
     "output_type": "stream",
     "text": [
      "2025-02-20 22:30:48.628 Thread 'MainThread': missing ScriptRunContext! This warning can be ignored when running in bare mode.\n",
      "2025-02-20 22:30:48.628 Thread 'MainThread': missing ScriptRunContext! This warning can be ignored when running in bare mode.\n",
      "2025-02-20 22:30:48.633 Thread 'MainThread': missing ScriptRunContext! This warning can be ignored when running in bare mode.\n",
      "2025-02-20 22:30:48.633 Thread 'MainThread': missing ScriptRunContext! This warning can be ignored when running in bare mode.\n",
      "2025-02-20 22:30:48.636 Thread 'MainThread': missing ScriptRunContext! This warning can be ignored when running in bare mode.\n",
      "2025-02-20 22:30:48.636 Thread 'MainThread': missing ScriptRunContext! This warning can be ignored when running in bare mode.\n",
      "2025-02-20 22:30:48.638 Thread 'MainThread': missing ScriptRunContext! This warning can be ignored when running in bare mode.\n",
      "2025-02-20 22:30:48.638 Thread 'MainThread': missing ScriptRunContext! This warning can be ignored when running in bare mode.\n",
      "2025-02-20 22:30:48.638 Thread 'MainThread': missing ScriptRunContext! This warning can be ignored when running in bare mode.\n"
     ]
    }
   ],
   "source": [
    "chatbot()"
   ]
  },
  {
   "cell_type": "code",
   "execution_count": 46,
   "metadata": {},
   "outputs": [
    {
     "name": "stdout",
     "output_type": "stream",
     "text": [
      "Requirement already satisfied: streamlit in c:\\users\\dell\\anaconda3\\envs\\miniproject2\\lib\\site-packages (1.42.0)\n",
      "Requirement already satisfied: altair<6,>=4.0 in c:\\users\\dell\\anaconda3\\envs\\miniproject2\\lib\\site-packages (from streamlit) (5.5.0)\n",
      "Requirement already satisfied: blinker<2,>=1.0.0 in c:\\users\\dell\\anaconda3\\envs\\miniproject2\\lib\\site-packages (from streamlit) (1.9.0)\n",
      "Requirement already satisfied: cachetools<6,>=4.0 in c:\\users\\dell\\anaconda3\\envs\\miniproject2\\lib\\site-packages (from streamlit) (5.5.1)\n",
      "Requirement already satisfied: click<9,>=7.0 in c:\\users\\dell\\anaconda3\\envs\\miniproject2\\lib\\site-packages (from streamlit) (8.1.8)\n",
      "Requirement already satisfied: numpy<3,>=1.23 in c:\\users\\dell\\anaconda3\\envs\\miniproject2\\lib\\site-packages (from streamlit) (1.26.4)\n",
      "Requirement already satisfied: packaging<25,>=20 in c:\\users\\dell\\appdata\\roaming\\python\\python312\\site-packages (from streamlit) (24.1)\n",
      "Requirement already satisfied: pandas<3,>=1.4.0 in c:\\users\\dell\\anaconda3\\envs\\miniproject2\\lib\\site-packages (from streamlit) (2.2.2)\n",
      "Requirement already satisfied: pillow<12,>=7.1.0 in c:\\users\\dell\\anaconda3\\envs\\miniproject2\\lib\\site-packages (from streamlit) (11.1.0)\n",
      "Requirement already satisfied: protobuf<6,>=3.20 in c:\\users\\dell\\anaconda3\\envs\\miniproject2\\lib\\site-packages (from streamlit) (5.29.3)\n",
      "Requirement already satisfied: pyarrow>=7.0 in c:\\users\\dell\\anaconda3\\envs\\miniproject2\\lib\\site-packages (from streamlit) (16.1.0)\n",
      "Requirement already satisfied: requests<3,>=2.27 in c:\\users\\dell\\anaconda3\\envs\\miniproject2\\lib\\site-packages (from streamlit) (2.32.3)\n",
      "Requirement already satisfied: rich<14,>=10.14.0 in c:\\users\\dell\\anaconda3\\envs\\miniproject2\\lib\\site-packages (from streamlit) (13.9.4)\n",
      "Requirement already satisfied: tenacity<10,>=8.1.0 in c:\\users\\dell\\anaconda3\\envs\\miniproject2\\lib\\site-packages (from streamlit) (9.0.0)\n",
      "Requirement already satisfied: toml<2,>=0.10.1 in c:\\users\\dell\\anaconda3\\envs\\miniproject2\\lib\\site-packages (from streamlit) (0.10.2)\n",
      "Requirement already satisfied: typing-extensions<5,>=4.4.0 in c:\\users\\dell\\anaconda3\\envs\\miniproject2\\lib\\site-packages (from streamlit) (4.12.2)\n",
      "Requirement already satisfied: watchdog<7,>=2.1.5 in c:\\users\\dell\\anaconda3\\envs\\miniproject2\\lib\\site-packages (from streamlit) (6.0.0)\n",
      "Requirement already satisfied: gitpython!=3.1.19,<4,>=3.0.7 in c:\\users\\dell\\anaconda3\\envs\\miniproject2\\lib\\site-packages (from streamlit) (3.1.44)\n",
      "Requirement already satisfied: pydeck<1,>=0.8.0b4 in c:\\users\\dell\\anaconda3\\envs\\miniproject2\\lib\\site-packages (from streamlit) (0.9.1)\n",
      "Requirement already satisfied: tornado<7,>=6.0.3 in c:\\users\\dell\\appdata\\roaming\\python\\python312\\site-packages (from streamlit) (6.4.1)\n",
      "Requirement already satisfied: jinja2 in c:\\users\\dell\\anaconda3\\envs\\miniproject2\\lib\\site-packages (from altair<6,>=4.0->streamlit) (3.1.5)\n",
      "Requirement already satisfied: jsonschema>=3.0 in c:\\users\\dell\\anaconda3\\envs\\miniproject2\\lib\\site-packages (from altair<6,>=4.0->streamlit) (4.23.0)\n",
      "Requirement already satisfied: narwhals>=1.14.2 in c:\\users\\dell\\anaconda3\\envs\\miniproject2\\lib\\site-packages (from altair<6,>=4.0->streamlit) (1.26.0)\n",
      "Requirement already satisfied: colorama in c:\\users\\dell\\appdata\\roaming\\python\\python312\\site-packages (from click<9,>=7.0->streamlit) (0.4.6)\n",
      "Requirement already satisfied: gitdb<5,>=4.0.1 in c:\\users\\dell\\anaconda3\\envs\\miniproject2\\lib\\site-packages (from gitpython!=3.1.19,<4,>=3.0.7->streamlit) (4.0.12)\n",
      "Requirement already satisfied: python-dateutil>=2.8.2 in c:\\users\\dell\\anaconda3\\envs\\miniproject2\\lib\\site-packages (from pandas<3,>=1.4.0->streamlit) (2.9.0.post0)\n",
      "Requirement already satisfied: pytz>=2020.1 in c:\\users\\dell\\anaconda3\\envs\\miniproject2\\lib\\site-packages (from pandas<3,>=1.4.0->streamlit) (2024.1)\n",
      "Requirement already satisfied: tzdata>=2022.7 in c:\\users\\dell\\anaconda3\\envs\\miniproject2\\lib\\site-packages (from pandas<3,>=1.4.0->streamlit) (2023.3)\n",
      "Requirement already satisfied: charset-normalizer<4,>=2 in c:\\users\\dell\\anaconda3\\envs\\miniproject2\\lib\\site-packages (from requests<3,>=2.27->streamlit) (3.3.2)\n",
      "Requirement already satisfied: idna<4,>=2.5 in c:\\users\\dell\\anaconda3\\envs\\miniproject2\\lib\\site-packages (from requests<3,>=2.27->streamlit) (3.7)\n",
      "Requirement already satisfied: urllib3<3,>=1.21.1 in c:\\users\\dell\\anaconda3\\envs\\miniproject2\\lib\\site-packages (from requests<3,>=2.27->streamlit) (2.2.3)\n",
      "Requirement already satisfied: certifi>=2017.4.17 in c:\\users\\dell\\anaconda3\\envs\\miniproject2\\lib\\site-packages (from requests<3,>=2.27->streamlit) (2024.8.30)\n",
      "Requirement already satisfied: markdown-it-py>=2.2.0 in c:\\users\\dell\\anaconda3\\envs\\miniproject2\\lib\\site-packages (from rich<14,>=10.14.0->streamlit) (3.0.0)\n",
      "Requirement already satisfied: pygments<3.0.0,>=2.13.0 in c:\\users\\dell\\appdata\\roaming\\python\\python312\\site-packages (from rich<14,>=10.14.0->streamlit) (2.18.0)\n",
      "Requirement already satisfied: smmap<6,>=3.0.1 in c:\\users\\dell\\anaconda3\\envs\\miniproject2\\lib\\site-packages (from gitdb<5,>=4.0.1->gitpython!=3.1.19,<4,>=3.0.7->streamlit) (5.0.2)\n",
      "Requirement already satisfied: MarkupSafe>=2.0 in c:\\users\\dell\\anaconda3\\envs\\miniproject2\\lib\\site-packages (from jinja2->altair<6,>=4.0->streamlit) (2.1.5)\n",
      "Requirement already satisfied: attrs>=22.2.0 in c:\\users\\dell\\anaconda3\\envs\\miniproject2\\lib\\site-packages (from jsonschema>=3.0->altair<6,>=4.0->streamlit) (24.2.0)\n",
      "Requirement already satisfied: jsonschema-specifications>=2023.03.6 in c:\\users\\dell\\anaconda3\\envs\\miniproject2\\lib\\site-packages (from jsonschema>=3.0->altair<6,>=4.0->streamlit) (2024.10.1)\n",
      "Requirement already satisfied: referencing>=0.28.4 in c:\\users\\dell\\anaconda3\\envs\\miniproject2\\lib\\site-packages (from jsonschema>=3.0->altair<6,>=4.0->streamlit) (0.36.2)\n",
      "Requirement already satisfied: rpds-py>=0.7.1 in c:\\users\\dell\\anaconda3\\envs\\miniproject2\\lib\\site-packages (from jsonschema>=3.0->altair<6,>=4.0->streamlit) (0.22.3)\n",
      "Requirement already satisfied: mdurl~=0.1 in c:\\users\\dell\\anaconda3\\envs\\miniproject2\\lib\\site-packages (from markdown-it-py>=2.2.0->rich<14,>=10.14.0->streamlit) (0.1.2)\n",
      "Requirement already satisfied: six>=1.5 in c:\\users\\dell\\appdata\\roaming\\python\\python312\\site-packages (from python-dateutil>=2.8.2->pandas<3,>=1.4.0->streamlit) (1.16.0)\n",
      "Note: you may need to restart the kernel to use updated packages.\n"
     ]
    }
   ],
   "source": [
    "pip install streamlit"
   ]
  },
  {
   "cell_type": "code",
   "execution_count": null,
   "metadata": {},
   "outputs": [],
   "source": []
  }
 ],
 "metadata": {
  "kernelspec": {
   "display_name": "miniproject2",
   "language": "python",
   "name": "python3"
  },
  "language_info": {
   "codemirror_mode": {
    "name": "ipython",
    "version": 3
   },
   "file_extension": ".py",
   "mimetype": "text/x-python",
   "name": "python",
   "nbconvert_exporter": "python",
   "pygments_lexer": "ipython3",
   "version": "3.12.7"
  }
 },
 "nbformat": 4,
 "nbformat_minor": 2
}
